{
 "cells": [
  {
   "cell_type": "code",
   "execution_count": 2,
   "metadata": {},
   "outputs": [],
   "source": [
    "#combination of 15 digit numbers for 12345\n",
    "\n",
    "from collections import Counter \n",
    "import itertools as it\n",
    "import csv \n",
    "with open(r'C:\\Users\\Sara\\Desktop\\csv files for project\\combination_response_3_datasets\\Combo_1.csv', mode='w') as file:\n",
    "    writer = csv.writer(file, delimiter=',', quotechar='\"', quoting=csv.QUOTE_MINIMAL)\n",
    "    writer.writerow(['COM1','COM2','COM3','COM4','COM5','COM6','COM7','COM8','COM9','COM10',\n",
    "                     'COM11','COM12','COM13','COM14','COM15'])\n",
    "    a=[1,2,3,4,5]\n",
    "    comb_list1= list(it.combinations_with_replacement(a,15))\n",
    "       \n",
    "    \n",
    "    row_list=[]\n",
    "    for tuples in comb_list1:\n",
    "        for i in tuples:\n",
    "            row_list.append(i)\n",
    "            if len(row_list)==15:\n",
    "                writer.writerow(row_list) \n",
    "                row_list.clear()          \n",
    "    "
   ]
  },
  {
   "cell_type": "code",
   "execution_count": 3,
   "metadata": {},
   "outputs": [],
   "source": [
    "#combination of 6 digit numbers for 12345\n",
    "\n",
    "from collections import Counter \n",
    "import itertools as it\n",
    "import csv \n",
    "with open(r'C:\\Users\\Sara\\Desktop\\csv files for project\\combination_response_3_datasets\\Combo_2.csv', mode='w') as file:\n",
    "    writer = csv.writer(file, delimiter=',', quotechar='\"', quoting=csv.QUOTE_MINIMAL)\n",
    "    writer.writerow(['CHI1','CHI2','CHI3','CHI4','CHI5','CHI6'])\n",
    "    a=[1,2,3,4,5]\n",
    "    \n",
    "    comb_list2= list(it.combinations_with_replacement(a,6))    \n",
    "    \n",
    "    row_list=[]\n",
    "    for tuples in comb_list2:\n",
    "        for i in tuples:\n",
    "            row_list.append(i)\n",
    "            if len(row_list)==6:\n",
    "                writer.writerow(row_list) \n",
    "                row_list.clear()\n",
    "                "
   ]
  },
  {
   "cell_type": "code",
   "execution_count": 4,
   "metadata": {},
   "outputs": [],
   "source": [
    "#combination of 8 digit numbers for 12345\n",
    "\n",
    "from collections import Counter \n",
    "import itertools as it\n",
    "import csv \n",
    "with open(r'C:\\Users\\Sara\\Desktop\\csv files for project\\combination_response_3_datasets\\Combo_3.csv', mode='w') as file:\n",
    "    writer = csv.writer(file, delimiter=',', quotechar='\"', quoting=csv.QUOTE_MINIMAL)\n",
    "    writer.writerow(['ADU1','ADU2','ADU3','ADU4','ADU5','ADU6','ADU7','ADU8'])\n",
    "    a=[1,2,3,4,5]\n",
    "    comb_list3= list(it.combinations_with_replacement(a,8))\n",
    "    \n",
    "\n",
    "    #comb_list4 = []\n",
    "    #for (tuple1, tuple2,tuple3) in zip(comb_list1, comb_list2,comb_list3):\n",
    "    #       comb_list4.append(tuple1+tuple2+tuple3)\n",
    "    \n",
    "    row_list=[]\n",
    "    for tuples in comb_list3:\n",
    "        for i in tuples:\n",
    "            row_list.append(i)\n",
    "            if len(row_list)==8:\n",
    "                writer.writerow(row_list) \n",
    "                row_list.clear()\n",
    "                "
   ]
  }
 ],
 "metadata": {
  "kernelspec": {
   "display_name": "Python 3",
   "language": "python",
   "name": "python3"
  },
  "language_info": {
   "codemirror_mode": {
    "name": "ipython",
    "version": 3
   },
   "file_extension": ".py",
   "mimetype": "text/x-python",
   "name": "python",
   "nbconvert_exporter": "python",
   "pygments_lexer": "ipython3",
   "version": "3.6.1"
  }
 },
 "nbformat": 4,
 "nbformat_minor": 4
}
